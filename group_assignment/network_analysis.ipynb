{
 "cells": [
  {
   "cell_type": "code",
   "execution_count": 8,
   "metadata": {},
   "outputs": [],
   "source": [
    "import pandas as pd\n",
    "import numpy as np\n",
    "import matplotlib.pyplot as plt\n",
    "import seaborn as sns\n",
    "import warnings\n",
    "warnings.filterwarnings('ignore')\n",
    "pd.set_option('display.max_columns', None)"
   ]
  },
  {
   "cell_type": "code",
   "execution_count": 9,
   "metadata": {},
   "outputs": [],
   "source": [
    "df_submission = pd.read_json('data/1998TeenMovie_submissions.zst',compression=dict(method='zstd', max_window_size=2147483648), lines=True) \n",
    "df_comments = pd.read_json('data/1998TeenMovie_comments.zst',compression=dict(method='zstd', max_window_size=2147483648), lines=True) "
   ]
  },
  {
   "cell_type": "code",
   "execution_count": 14,
   "metadata": {},
   "outputs": [
    {
     "data": {
      "text/html": [
       "<div>\n",
       "<style scoped>\n",
       "    .dataframe tbody tr th:only-of-type {\n",
       "        vertical-align: middle;\n",
       "    }\n",
       "\n",
       "    .dataframe tbody tr th {\n",
       "        vertical-align: top;\n",
       "    }\n",
       "\n",
       "    .dataframe thead th {\n",
       "        text-align: right;\n",
       "    }\n",
       "</style>\n",
       "<table border=\"1\" class=\"dataframe\">\n",
       "  <thead>\n",
       "    <tr style=\"text-align: right;\">\n",
       "      <th></th>\n",
       "      <th>all_awardings</th>\n",
       "      <th>author</th>\n",
       "      <th>author_created_utc</th>\n",
       "      <th>author_flair_background_color</th>\n",
       "      <th>author_flair_css_class</th>\n",
       "      <th>author_flair_richtext</th>\n",
       "      <th>author_flair_template_id</th>\n",
       "      <th>author_flair_text</th>\n",
       "      <th>author_flair_text_color</th>\n",
       "      <th>author_flair_type</th>\n",
       "      <th>author_fullname</th>\n",
       "      <th>author_patreon_flair</th>\n",
       "      <th>body</th>\n",
       "      <th>can_gild</th>\n",
       "      <th>can_mod_post</th>\n",
       "      <th>collapsed</th>\n",
       "      <th>collapsed_reason</th>\n",
       "      <th>controversiality</th>\n",
       "      <th>created_utc</th>\n",
       "      <th>distinguished</th>\n",
       "      <th>edited</th>\n",
       "      <th>gilded</th>\n",
       "      <th>gildings</th>\n",
       "      <th>id</th>\n",
       "      <th>is_submitter</th>\n",
       "      <th>link_id</th>\n",
       "      <th>locked</th>\n",
       "      <th>no_follow</th>\n",
       "      <th>parent_id</th>\n",
       "      <th>permalink</th>\n",
       "      <th>quarantined</th>\n",
       "      <th>removal_reason</th>\n",
       "      <th>retrieved_on</th>\n",
       "      <th>score</th>\n",
       "      <th>send_replies</th>\n",
       "      <th>stickied</th>\n",
       "      <th>subreddit</th>\n",
       "      <th>subreddit_id</th>\n",
       "      <th>subreddit_name_prefixed</th>\n",
       "      <th>subreddit_type</th>\n",
       "      <th>total_awards_received</th>\n",
       "      <th>steward_reports</th>\n",
       "      <th>awarders</th>\n",
       "      <th>associated_award</th>\n",
       "      <th>collapsed_because_crowd_control</th>\n",
       "      <th>author_premium</th>\n",
       "      <th>treatment_tags</th>\n",
       "      <th>top_awarded_type</th>\n",
       "      <th>author_cakeday</th>\n",
       "      <th>comment_type</th>\n",
       "      <th>archived</th>\n",
       "      <th>collapsed_reason_code</th>\n",
       "      <th>name</th>\n",
       "      <th>retrieved_utc</th>\n",
       "      <th>score_hidden</th>\n",
       "      <th>author_is_blocked</th>\n",
       "      <th>unrepliable_reason</th>\n",
       "    </tr>\n",
       "  </thead>\n",
       "  <tbody>\n",
       "  </tbody>\n",
       "</table>\n",
       "</div>"
      ],
      "text/plain": [
       "Empty DataFrame\n",
       "Columns: [all_awardings, author, author_created_utc, author_flair_background_color, author_flair_css_class, author_flair_richtext, author_flair_template_id, author_flair_text, author_flair_text_color, author_flair_type, author_fullname, author_patreon_flair, body, can_gild, can_mod_post, collapsed, collapsed_reason, controversiality, created_utc, distinguished, edited, gilded, gildings, id, is_submitter, link_id, locked, no_follow, parent_id, permalink, quarantined, removal_reason, retrieved_on, score, send_replies, stickied, subreddit, subreddit_id, subreddit_name_prefixed, subreddit_type, total_awards_received, steward_reports, awarders, associated_award, collapsed_because_crowd_control, author_premium, treatment_tags, top_awarded_type, author_cakeday, comment_type, archived, collapsed_reason_code, name, retrieved_utc, score_hidden, author_is_blocked, unrepliable_reason]\n",
       "Index: []"
      ]
     },
     "execution_count": 14,
     "metadata": {},
     "output_type": "execute_result"
    }
   ],
   "source": [
    "df_comments[df_comments['parent_id']=='bqobyq']"
   ]
  },
  {
   "cell_type": "code",
   "execution_count": 23,
   "metadata": {},
   "outputs": [
    {
     "data": {
      "text/plain": [
       "array(['t3_bqogv6', 't3_bqojqj', 't3_bqone5', ..., 't3_zpdrdn',\n",
       "       't3_znfg17', 't3_zy9e1s'], dtype=object)"
      ]
     },
     "execution_count": 23,
     "metadata": {},
     "output_type": "execute_result"
    }
   ],
   "source": [
    "df_comments.head(2)\n",
    "df_comments['link_id'].unique()"
   ]
  }
 ],
 "metadata": {
  "kernelspec": {
   "display_name": "Python 3",
   "language": "python",
   "name": "python3"
  },
  "language_info": {
   "codemirror_mode": {
    "name": "ipython",
    "version": 3
   },
   "file_extension": ".py",
   "mimetype": "text/x-python",
   "name": "python",
   "nbconvert_exporter": "python",
   "pygments_lexer": "ipython3",
   "version": "3.12.2"
  }
 },
 "nbformat": 4,
 "nbformat_minor": 2
}
