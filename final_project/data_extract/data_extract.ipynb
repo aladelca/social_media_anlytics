{
 "cells": [
  {
   "cell_type": "code",
   "execution_count": 4,
   "metadata": {},
   "outputs": [],
   "source": [
    "import pandas as pd\n",
    "import numpy as np\n",
    "import matplotlib.pyplot as plt\n",
    "import instaloader"
   ]
  },
  {
   "cell_type": "code",
   "execution_count": 5,
   "metadata": {},
   "outputs": [],
   "source": [
    "L = instaloader.Instaloader()\n",
    "USER_NAME = 'aladelcamma'\n",
    "PASSWORD = 'Adrian1996!'"
   ]
  },
  {
   "cell_type": "code",
   "execution_count": 22,
   "metadata": {},
   "outputs": [],
   "source": [
    "L.login(USER_NAME, PASSWORD) "
   ]
  },
  {
   "cell_type": "code",
   "execution_count": 6,
   "metadata": {},
   "outputs": [
    {
     "ename": "QueryReturnedBadRequestException",
     "evalue": "400 Bad Request",
     "output_type": "error",
     "traceback": [
      "\u001b[0;31m---------------------------------------------------------------------------\u001b[0m",
      "\u001b[0;31mQueryReturnedBadRequestException\u001b[0m          Traceback (most recent call last)",
      "Cell \u001b[0;32mIn[6], line 12\u001b[0m\n\u001b[1;32m     10\u001b[0m L\u001b[38;5;241m.\u001b[39mlogin(USER_NAME, PASSWORD) \n\u001b[1;32m     11\u001b[0m profile \u001b[38;5;241m=\u001b[39m \u001b[38;5;124m'\u001b[39m\u001b[38;5;124mmrbeast\u001b[39m\u001b[38;5;124m'\u001b[39m\n\u001b[0;32m---> 12\u001b[0m perfil \u001b[38;5;241m=\u001b[39m \u001b[43minstaloader\u001b[49m\u001b[38;5;241;43m.\u001b[39;49m\u001b[43mProfile\u001b[49m\u001b[38;5;241;43m.\u001b[39;49m\u001b[43mfrom_username\u001b[49m\u001b[43m(\u001b[49m\u001b[43mL\u001b[49m\u001b[38;5;241;43m.\u001b[39;49m\u001b[43mcontext\u001b[49m\u001b[43m,\u001b[49m\u001b[43m \u001b[49m\u001b[43mprofile\u001b[49m\u001b[43m)\u001b[49m\n\u001b[1;32m     17\u001b[0m \u001b[38;5;66;03m# Formato de nombre de carpeta basado en la fecha\u001b[39;00m\n\u001b[1;32m     18\u001b[0m nombre_carpeta \u001b[38;5;241m=\u001b[39m \u001b[38;5;124m'\u001b[39m\u001b[38;5;124minfo\u001b[39m\u001b[38;5;124m'\u001b[39m\n",
      "File \u001b[0;32m/Library/Frameworks/Python.framework/Versions/3.12/lib/python3.12/site-packages/instaloader/structures.py:877\u001b[0m, in \u001b[0;36mProfile.from_username\u001b[0;34m(cls, context, username)\u001b[0m\n\u001b[1;32m    875\u001b[0m \u001b[38;5;66;03m# pylint:disable=protected-access\u001b[39;00m\n\u001b[1;32m    876\u001b[0m profile \u001b[38;5;241m=\u001b[39m \u001b[38;5;28mcls\u001b[39m(context, {\u001b[38;5;124m'\u001b[39m\u001b[38;5;124musername\u001b[39m\u001b[38;5;124m'\u001b[39m: username\u001b[38;5;241m.\u001b[39mlower()})\n\u001b[0;32m--> 877\u001b[0m \u001b[43mprofile\u001b[49m\u001b[38;5;241;43m.\u001b[39;49m\u001b[43m_obtain_metadata\u001b[49m\u001b[43m(\u001b[49m\u001b[43m)\u001b[49m  \u001b[38;5;66;03m# to raise ProfileNotExistsException now in case username is invalid\u001b[39;00m\n\u001b[1;32m    878\u001b[0m \u001b[38;5;28;01mreturn\u001b[39;00m profile\n",
      "File \u001b[0;32m/Library/Frameworks/Python.framework/Versions/3.12/lib/python3.12/site-packages/instaloader/structures.py:946\u001b[0m, in \u001b[0;36mProfile._obtain_metadata\u001b[0;34m(self)\u001b[0m\n\u001b[1;32m    944\u001b[0m \u001b[38;5;28;01mtry\u001b[39;00m:\n\u001b[1;32m    945\u001b[0m     \u001b[38;5;28;01mif\u001b[39;00m \u001b[38;5;129;01mnot\u001b[39;00m \u001b[38;5;28mself\u001b[39m\u001b[38;5;241m.\u001b[39m_has_full_metadata:\n\u001b[0;32m--> 946\u001b[0m         metadata \u001b[38;5;241m=\u001b[39m \u001b[38;5;28;43mself\u001b[39;49m\u001b[38;5;241;43m.\u001b[39;49m\u001b[43m_context\u001b[49m\u001b[38;5;241;43m.\u001b[39;49m\u001b[43mget_iphone_json\u001b[49m\u001b[43m(\u001b[49m\u001b[38;5;124;43mf\u001b[39;49m\u001b[38;5;124;43m'\u001b[39;49m\u001b[38;5;124;43mapi/v1/users/web_profile_info/?username=\u001b[39;49m\u001b[38;5;132;43;01m{\u001b[39;49;00m\u001b[38;5;28;43mself\u001b[39;49m\u001b[38;5;241;43m.\u001b[39;49m\u001b[43musername\u001b[49m\u001b[38;5;132;43;01m}\u001b[39;49;00m\u001b[38;5;124;43m'\u001b[39;49m\u001b[43m,\u001b[49m\n\u001b[1;32m    947\u001b[0m \u001b[43m                                                 \u001b[49m\u001b[43mparams\u001b[49m\u001b[38;5;241;43m=\u001b[39;49m\u001b[43m{\u001b[49m\u001b[43m}\u001b[49m\u001b[43m)\u001b[49m\n\u001b[1;32m    948\u001b[0m         \u001b[38;5;28;01mif\u001b[39;00m metadata[\u001b[38;5;124m'\u001b[39m\u001b[38;5;124mdata\u001b[39m\u001b[38;5;124m'\u001b[39m][\u001b[38;5;124m'\u001b[39m\u001b[38;5;124muser\u001b[39m\u001b[38;5;124m'\u001b[39m] \u001b[38;5;129;01mis\u001b[39;00m \u001b[38;5;28;01mNone\u001b[39;00m:\n\u001b[1;32m    949\u001b[0m             \u001b[38;5;28;01mraise\u001b[39;00m ProfileNotExistsException(\u001b[38;5;124m'\u001b[39m\u001b[38;5;124mProfile \u001b[39m\u001b[38;5;132;01m{}\u001b[39;00m\u001b[38;5;124m does not exist.\u001b[39m\u001b[38;5;124m'\u001b[39m\u001b[38;5;241m.\u001b[39mformat(\u001b[38;5;28mself\u001b[39m\u001b[38;5;241m.\u001b[39musername))\n",
      "File \u001b[0;32m/Library/Frameworks/Python.framework/Versions/3.12/lib/python3.12/site-packages/instaloader/instaloadercontext.py:571\u001b[0m, in \u001b[0;36mInstaloaderContext.get_iphone_json\u001b[0;34m(self, path, params)\u001b[0m\n\u001b[1;32m    568\u001b[0m     tempsession\u001b[38;5;241m.\u001b[39mcookies\u001b[38;5;241m.\u001b[39mclear()\n\u001b[1;32m    570\u001b[0m response_headers \u001b[38;5;241m=\u001b[39m \u001b[38;5;28mdict\u001b[39m()    \u001b[38;5;66;03m# type: Dict[str, Any]\u001b[39;00m\n\u001b[0;32m--> 571\u001b[0m response \u001b[38;5;241m=\u001b[39m \u001b[38;5;28;43mself\u001b[39;49m\u001b[38;5;241;43m.\u001b[39;49m\u001b[43mget_json\u001b[49m\u001b[43m(\u001b[49m\u001b[43mpath\u001b[49m\u001b[43m,\u001b[49m\u001b[43m \u001b[49m\u001b[43mparams\u001b[49m\u001b[43m,\u001b[49m\u001b[43m \u001b[49m\u001b[38;5;124;43m'\u001b[39;49m\u001b[38;5;124;43mi.instagram.com\u001b[39;49m\u001b[38;5;124;43m'\u001b[39;49m\u001b[43m,\u001b[49m\u001b[43m \u001b[49m\u001b[43mtempsession\u001b[49m\u001b[43m,\u001b[49m\u001b[43m \u001b[49m\u001b[43mresponse_headers\u001b[49m\u001b[38;5;241;43m=\u001b[39;49m\u001b[43mresponse_headers\u001b[49m\u001b[43m)\u001b[49m\n\u001b[1;32m    573\u001b[0m \u001b[38;5;66;03m# Extract the ig-set-* headers and use them in the next request\u001b[39;00m\n\u001b[1;32m    574\u001b[0m \u001b[38;5;28;01mfor\u001b[39;00m key, value \u001b[38;5;129;01min\u001b[39;00m response_headers\u001b[38;5;241m.\u001b[39mitems():\n",
      "File \u001b[0;32m/Library/Frameworks/Python.framework/Versions/3.12/lib/python3.12/site-packages/instaloader/instaloadercontext.py:407\u001b[0m, in \u001b[0;36mInstaloaderContext.get_json\u001b[0;34m(self, path, params, host, session, _attempt, response_headers)\u001b[0m\n\u001b[1;32m    405\u001b[0m     response_headers\u001b[38;5;241m.\u001b[39mupdate(resp\u001b[38;5;241m.\u001b[39mheaders)\n\u001b[1;32m    406\u001b[0m \u001b[38;5;28;01mif\u001b[39;00m resp\u001b[38;5;241m.\u001b[39mstatus_code \u001b[38;5;241m==\u001b[39m \u001b[38;5;241m400\u001b[39m:\n\u001b[0;32m--> 407\u001b[0m     \u001b[38;5;28;01mraise\u001b[39;00m QueryReturnedBadRequestException(\u001b[38;5;124m\"\u001b[39m\u001b[38;5;124m400 Bad Request\u001b[39m\u001b[38;5;124m\"\u001b[39m)\n\u001b[1;32m    408\u001b[0m \u001b[38;5;28;01mif\u001b[39;00m resp\u001b[38;5;241m.\u001b[39mstatus_code \u001b[38;5;241m==\u001b[39m \u001b[38;5;241m404\u001b[39m:\n\u001b[1;32m    409\u001b[0m     \u001b[38;5;28;01mraise\u001b[39;00m QueryReturnedNotFoundException(\u001b[38;5;124m\"\u001b[39m\u001b[38;5;124m404 Not Found\u001b[39m\u001b[38;5;124m\"\u001b[39m)\n",
      "\u001b[0;31mQueryReturnedBadRequestException\u001b[0m: 400 Bad Request"
     ]
    }
   ],
   "source": [
    "from datetime import datetime\n",
    "import os\n",
    "import json\n",
    "import pandas as pd\n",
    "import numpy as np\n",
    "import matplotlib.pyplot as plt\n",
    "import instaloader\n",
    "\n",
    "L = instaloader.Instaloader()\n",
    "L.login(USER_NAME, PASSWORD) \n",
    "profile = 'mrbeast'\n",
    "perfil = instaloader.Profile.from_username(L.context, profile)\n",
    "\n",
    "\n",
    "\n",
    "\n",
    "# Formato de nombre de carpeta basado en la fecha\n",
    "nombre_carpeta = 'info'\n",
    "ruta_carpeta = os.path.join(f'{profile}/descargas_instagram', nombre_carpeta)\n",
    "fecha_especifica = datetime(2023, 4, 3)\n",
    "\n",
    "\n",
    "# Crea la carpeta si no existe\n",
    "if not os.path.exists(ruta_carpeta):\n",
    "    os.makedirs(ruta_carpeta)\n",
    "\n",
    "info_posts = {}\n",
    "\n",
    "# Itera a través de las publicaciones del perfil\n",
    "for publicacion in perfil.get_posts():\n",
    "\n",
    "    # Guarda la imagen con el nombre por defecto\n",
    "    \n",
    "    L.download_post(publicacion, target=profile)\n",
    "    \n",
    "    try:    \n",
    "        info = {\n",
    "            'likes': publicacion.likes,\n",
    "            'fecha_utc': publicacion.date_utc.isoformat(),\n",
    "            'hashtags': publicacion.caption_hashtags,\n",
    "            #'ubicacion': str(publicacion.location) if publicacion.location else None,\n",
    "            'comentarios': [(comentario.owner.username, comentario.text) for comentario in publicacion.get_comments()]\n",
    "        }\n",
    "        \n",
    "        # Agrega la información al diccionario usando el shortcode como clave\n",
    "        info_posts[publicacion.shortcode] = info\n",
    "    except:\n",
    "        info = {\n",
    "            'likes': publicacion.likes,\n",
    "            'fecha_utc': publicacion.date_utc.isoformat(),\n",
    "            'hashtags': publicacion.caption_hashtags,\n",
    "            #'ubicacion': str(publicacion.location) if publicacion.location else None,\n",
    "            'comentarios': 'no comments'\n",
    "        }\n",
    "        \n",
    "        # Agrega la información al diccionario usando el shortcode como clave\n",
    "        info_posts[publicacion.shortcode] = info\n",
    "    ruta_json = os.path.join(ruta_carpeta, f\"info_{nombre_carpeta}_{publicacion.shortcode}.json\")\n",
    "    with open(ruta_json, 'w', encoding='utf-8') as archivo_json:\n",
    "        json.dump(info_posts, archivo_json, ensure_ascii=False, indent=4)"
   ]
  }
 ],
 "metadata": {
  "kernelspec": {
   "display_name": "Python 3",
   "language": "python",
   "name": "python3"
  },
  "language_info": {
   "codemirror_mode": {
    "name": "ipython",
    "version": 3
   },
   "file_extension": ".py",
   "mimetype": "text/x-python",
   "name": "python",
   "nbconvert_exporter": "python",
   "pygments_lexer": "ipython3",
   "version": "3.12.2"
  }
 },
 "nbformat": 4,
 "nbformat_minor": 2
}
