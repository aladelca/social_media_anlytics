{
 "cells": [
  {
   "cell_type": "code",
   "execution_count": 264,
   "metadata": {},
   "outputs": [
    {
     "name": "stdout",
     "output_type": "stream",
     "text": [
      "The autoreload extension is already loaded. To reload it, use:\n",
      "  %reload_ext autoreload\n"
     ]
    }
   ],
   "source": [
    "%load_ext autoreload\n",
    "%autoreload 2"
   ]
  },
  {
   "cell_type": "code",
   "execution_count": 284,
   "metadata": {},
   "outputs": [],
   "source": [
    "import pandas as pd\n",
    "import numpy as np\n",
    "import tensorflow.keras.backend as K\n",
    "import matplotlib.pyplot as plt\n",
    "import seaborn as sns\n",
    "from sklearn.preprocessing import LabelEncoder, OneHotEncoder, MinMaxScaler\n",
    "import os\n",
    "import warnings \n",
    "import glob\n",
    "from sklearn.metrics import mean_absolute_error, mean_absolute_percentage_error, mean_squared_error, r2_score\n",
    "from PIL import Image\n",
    "import os\n",
    "from pylab import *\n",
    "from utils import * \n",
    "from sklearn.model_selection import train_test_split\n",
    "\n",
    "pd.set_option('display.max_columns', None)\n",
    "warnings.filterwarnings('ignore')"
   ]
  },
  {
   "cell_type": "code",
   "execution_count": 266,
   "metadata": {},
   "outputs": [],
   "source": [
    "influencers = [\n",
    "    'mrbeast',\n",
    "    ]\n",
    "\n",
    "Application_Credentials = '/Users/aladelca/Downloads/massive-acrobat-421018-1d8b6ce1a11a.json'\n",
    "os.environ['GOOGLE_APPLICATION_CREDENTIALS'] = Application_Credentials"
   ]
  },
  {
   "cell_type": "code",
   "execution_count": 267,
   "metadata": {},
   "outputs": [],
   "source": [
    "data = pd.DataFrame()\n",
    "df_features = pd.DataFrame()\n",
    "for influencer in influencers:\n",
    "    data = pd.concat([data, preprocessing(influencer)])\n",
    "    data = data.reset_index(drop=True)\n",
    "    df_features = pd.concat([df_features,get_features_images(influencer)])\n",
    "    df_features = df_features.reset_index(drop=True)\n"
   ]
  },
  {
   "cell_type": "code",
   "execution_count": 268,
   "metadata": {},
   "outputs": [],
   "source": [
    "df_features.to_csv('df_features.csv', index=False)"
   ]
  },
  {
   "cell_type": "code",
   "execution_count": 269,
   "metadata": {},
   "outputs": [],
   "source": [
    "df_final = preprocess_features(df_features, data)"
   ]
  },
  {
   "cell_type": "code",
   "execution_count": 270,
   "metadata": {},
   "outputs": [],
   "source": [
    "images = load_and_prepare_images(data)\n",
    "likes = df_final['likes'].values.astype('float32')"
   ]
  },
  {
   "cell_type": "code",
   "execution_count": 271,
   "metadata": {},
   "outputs": [],
   "source": [
    "x_train, x_test, y_train, y_test = train_test_split(images, likes, test_size=0.2, random_state=123)\n",
    "df_train, df_test = train_test_split(df_final, test_size=0.2, random_state=123)\n",
    "x_fit, x_val, y_fit, y_val = train_test_split(x_train, y_train, test_size=0.2, random_state=123)\n",
    "df_fit, df_val = train_test_split(df_train, test_size=0.2, random_state=123)\n"
   ]
  },
  {
   "cell_type": "code",
   "execution_count": 272,
   "metadata": {},
   "outputs": [],
   "source": [
    "enc = OneHotEncoder()\n",
    "df_fit_enc = pd.concat([pd.DataFrame(enc.fit_transform(df_fit[['influencer']]).toarray(), \n",
    "                          columns = enc.categories_[0], \n",
    "                          index = df_fit.index),\n",
    "                          df_fit.drop(columns = ['influencer'])], axis = 1)\n",
    "df_val_enc = pd.concat([pd.DataFrame(enc.transform(df_val[['influencer']]).toarray(),\n",
    "                          columns = enc.categories_[0],\n",
    "                          index = df_val.index),\n",
    "                          df_val.drop(columns = ['influencer'])], axis = 1)\n",
    "\n",
    "df_test_enc = pd.concat([pd.DataFrame(enc.transform(df_test[['influencer']]).toarray(),\n",
    "                           columns = enc.categories_[0],\n",
    "                           index = df_test.index),\n",
    "                           df_test.drop(columns = ['influencer'])], axis = 1)"
   ]
  },
  {
   "cell_type": "code",
   "execution_count": 273,
   "metadata": {},
   "outputs": [],
   "source": [
    "df_fit_enc = df_fit_enc.fillna(0)\n",
    "df_val_enc = df_val_enc.fillna(0)\n",
    "df_test_enc = df_test_enc.fillna(0) "
   ]
  },
  {
   "cell_type": "code",
   "execution_count": 274,
   "metadata": {},
   "outputs": [],
   "source": [
    "### Scaling\n",
    "DROP_VARS = ['likes','fecha_utc','hashtags','comentarios','key_date','filename','caption','img_source','clean_path']\n",
    "esc = MinMaxScaler()\n",
    "df_fit_esc = esc.fit_transform(df_fit_enc.loc[:, ~df_fit_enc.columns.isin(DROP_VARS)])\n",
    "df_val_esc = esc.transform(df_val_enc.loc[:, ~df_val_enc.columns.isin(DROP_VARS)])\n",
    "df_test_esc = esc.transform(df_test_enc.loc[:, ~df_test_enc.columns.isin(DROP_VARS)])\n"
   ]
  },
  {
   "cell_type": "code",
   "execution_count": 289,
   "metadata": {},
   "outputs": [
    {
     "name": "stdout",
     "output_type": "stream",
     "text": [
      "Epoch 1/1000\n",
      "\u001b[1m1/1\u001b[0m \u001b[32m━━━━━━━━━━━━━━━━━━━━\u001b[0m\u001b[37m\u001b[0m \u001b[1m1s\u001b[0m 783ms/step - loss: 5951757221888.0000 - mae: 1707906.0000 - val_loss: 7054166065152.0000 - val_mae: 2048421.2500\n",
      "Epoch 2/1000\n",
      "\u001b[1m1/1\u001b[0m \u001b[32m━━━━━━━━━━━━━━━━━━━━\u001b[0m\u001b[37m\u001b[0m \u001b[1m0s\u001b[0m 239ms/step - loss: 5951625101312.0000 - mae: 1707867.2500 - val_loss: 7053826326528.0000 - val_mae: 2048340.6250\n",
      "Epoch 3/1000\n",
      "\u001b[1m1/1\u001b[0m \u001b[32m━━━━━━━━━━━━━━━━━━━━\u001b[0m\u001b[37m\u001b[0m \u001b[1m0s\u001b[0m 238ms/step - loss: 5951359811584.0000 - mae: 1707790.5000 - val_loss: 7053210288128.0000 - val_mae: 2048194.2500\n",
      "Epoch 4/1000\n",
      "\u001b[1m1/1\u001b[0m \u001b[32m━━━━━━━━━━━━━━━━━━━━\u001b[0m\u001b[37m\u001b[0m \u001b[1m0s\u001b[0m 249ms/step - loss: 5950879563776.0000 - mae: 1707650.5000 - val_loss: 7052213092352.0000 - val_mae: 2047957.0000\n",
      "Epoch 5/1000\n",
      "\u001b[1m1/1\u001b[0m \u001b[32m━━━━━━━━━━━━━━━━━━━━\u001b[0m\u001b[37m\u001b[0m \u001b[1m0s\u001b[0m 241ms/step - loss: 5950098374656.0000 - mae: 1707423.5000 - val_loss: 7050709434368.0000 - val_mae: 2047599.1250\n",
      "Epoch 6/1000\n",
      "\u001b[1m1/1\u001b[0m \u001b[32m━━━━━━━━━━━━━━━━━━━━\u001b[0m\u001b[37m\u001b[0m \u001b[1m0s\u001b[0m 242ms/step - loss: 5948917153792.0000 - mae: 1707081.0000 - val_loss: 7048547270656.0000 - val_mae: 2047084.0000\n",
      "Epoch 7/1000\n",
      "\u001b[1m1/1\u001b[0m \u001b[32m━━━━━━━━━━━━━━━━━━━━\u001b[0m\u001b[37m\u001b[0m \u001b[1m0s\u001b[0m 245ms/step - loss: 5947215839232.0000 - mae: 1706587.6250 - val_loss: 7045554110464.0000 - val_mae: 2046370.0000\n",
      "Epoch 8/1000\n",
      "\u001b[1m1/1\u001b[0m \u001b[32m━━━━━━━━━━━━━━━━━━━━\u001b[0m\u001b[37m\u001b[0m \u001b[1m0s\u001b[0m 239ms/step - loss: 5944857067520.0000 - mae: 1705903.5000 - val_loss: 7041521811456.0000 - val_mae: 2045407.7500\n",
      "Epoch 9/1000\n",
      "\u001b[1m1/1\u001b[0m \u001b[32m━━━━━━━━━━━━━━━━━━━━\u001b[0m\u001b[37m\u001b[0m \u001b[1m0s\u001b[0m 235ms/step - loss: 5941674115072.0000 - mae: 1704980.5000 - val_loss: 7036206055424.0000 - val_mae: 2044137.5000\n",
      "Epoch 10/1000\n",
      "\u001b[1m1/1\u001b[0m \u001b[32m━━━━━━━━━━━━━━━━━━━━\u001b[0m\u001b[37m\u001b[0m \u001b[1m0s\u001b[0m 238ms/step - loss: 5937472471040.0000 - mae: 1703761.3750 - val_loss: 7029317435392.0000 - val_mae: 2042489.2500\n",
      "Epoch 11/1000\n",
      "\u001b[1m1/1\u001b[0m \u001b[32m━━━━━━━━━━━━━━━━━━━━\u001b[0m\u001b[37m\u001b[0m \u001b[1m0s\u001b[0m 239ms/step - loss: 5932020924416.0000 - mae: 1702179.0000 - val_loss: 7020544000000.0000 - val_mae: 2040387.6250\n",
      "Epoch 12/1000\n",
      "\u001b[1m1/1\u001b[0m \u001b[32m━━━━━━━━━━━━━━━━━━━━\u001b[0m\u001b[37m\u001b[0m \u001b[1m0s\u001b[0m 242ms/step - loss: 5925074108416.0000 - mae: 1700161.0000 - val_loss: 7009525563392.0000 - val_mae: 2037745.7500\n",
      "Epoch 13/1000\n",
      "\u001b[1m1/1\u001b[0m \u001b[32m━━━━━━━━━━━━━━━━━━━━\u001b[0m\u001b[37m\u001b[0m \u001b[1m0s\u001b[0m 237ms/step - loss: 5916346810368.0000 - mae: 1697623.5000 - val_loss: 6995850035200.0000 - val_mae: 2034462.2500\n",
      "Epoch 14/1000\n",
      "\u001b[1m1/1\u001b[0m \u001b[32m━━━━━━━━━━━━━━━━━━━━\u001b[0m\u001b[37m\u001b[0m \u001b[1m0s\u001b[0m 237ms/step - loss: 5905515020288.0000 - mae: 1694469.3750 - val_loss: 6979039264768.0000 - val_mae: 2030418.2500\n",
      "Epoch 15/1000\n",
      "\u001b[1m1/1\u001b[0m \u001b[32m━━━━━━━━━━━━━━━━━━━━\u001b[0m\u001b[37m\u001b[0m \u001b[1m0s\u001b[0m 235ms/step - loss: 5892196007936.0000 - mae: 1690583.2500 - val_loss: 6958575779840.0000 - val_mae: 2025483.3750\n",
      "Epoch 16/1000\n",
      "\u001b[1m1/1\u001b[0m \u001b[32m━━━━━━━━━━━━━━━━━━━━\u001b[0m\u001b[37m\u001b[0m \u001b[1m0s\u001b[0m 238ms/step - loss: 5875980304384.0000 - mae: 1685840.0000 - val_loss: 6933884960768.0000 - val_mae: 2019513.2500\n",
      "Epoch 17/1000\n",
      "\u001b[1m1/1\u001b[0m \u001b[32m━━━━━━━━━━━━━━━━━━━━\u001b[0m\u001b[37m\u001b[0m \u001b[1m0s\u001b[0m 233ms/step - loss: 5856417546240.0000 - mae: 1680100.8750 - val_loss: 6904325603328.0000 - val_mae: 2012342.8750\n",
      "Epoch 18/1000\n",
      "\u001b[1m1/1\u001b[0m \u001b[32m━━━━━━━━━━━━━━━━━━━━\u001b[0m\u001b[37m\u001b[0m \u001b[1m0s\u001b[0m 231ms/step - loss: 5833001795584.0000 - mae: 1673206.5000 - val_loss: 6869196210176.0000 - val_mae: 2003787.7500\n",
      "Epoch 19/1000\n",
      "\u001b[1m1/1\u001b[0m \u001b[32m━━━━━━━━━━━━━━━━━━━━\u001b[0m\u001b[37m\u001b[0m \u001b[1m0s\u001b[0m 233ms/step - loss: 5805180977152.0000 - mae: 1664978.2500 - val_loss: 6827787943936.0000 - val_mae: 1993657.1250\n",
      "Epoch 20/1000\n",
      "\u001b[1m1/1\u001b[0m \u001b[32m━━━━━━━━━━━━━━━━━━━━\u001b[0m\u001b[37m\u001b[0m \u001b[1m0s\u001b[0m 232ms/step - loss: 5772405112832.0000 - mae: 1655232.0000 - val_loss: 6779287633920.0000 - val_mae: 1981726.2500\n",
      "Epoch 21/1000\n",
      "\u001b[1m1/1\u001b[0m \u001b[32m━━━━━━━━━━━━━━━━━━━━\u001b[0m\u001b[37m\u001b[0m \u001b[1m0s\u001b[0m 236ms/step - loss: 5734053969920.0000 - mae: 1643752.8750 - val_loss: 6722771484672.0000 - val_mae: 1967733.2500\n",
      "Epoch 22/1000\n",
      "\u001b[1m1/1\u001b[0m \u001b[32m━━━━━━━━━━━━━━━━━━━━\u001b[0m\u001b[37m\u001b[0m \u001b[1m0s\u001b[0m 240ms/step - loss: 5689421332480.0000 - mae: 1630289.0000 - val_loss: 6657465647104.0000 - val_mae: 1951440.0000\n",
      "Epoch 23/1000\n",
      "\u001b[1m1/1\u001b[0m \u001b[32m━━━━━━━━━━━━━━━━━━━━\u001b[0m\u001b[37m\u001b[0m \u001b[1m0s\u001b[0m 234ms/step - loss: 5637924716544.0000 - mae: 1614611.1250 - val_loss: 6582449471488.0000 - val_mae: 1932557.2500\n",
      "Epoch 24/1000\n",
      "\u001b[1m1/1\u001b[0m \u001b[32m━━━━━━━━━━━━━━━━━━━━\u001b[0m\u001b[37m\u001b[0m \u001b[1m0s\u001b[0m 258ms/step - loss: 5578883596288.0000 - mae: 1596440.1250 - val_loss: 6496818561024.0000 - val_mae: 1910776.1250\n",
      "Epoch 25/1000\n",
      "\u001b[1m1/1\u001b[0m \u001b[32m━━━━━━━━━━━━━━━━━━━━\u001b[0m\u001b[37m\u001b[0m \u001b[1m0s\u001b[0m 251ms/step - loss: 5511634747392.0000 - mae: 1575478.0000 - val_loss: 6399693684736.0000 - val_mae: 1885769.7500\n",
      "Epoch 26/1000\n",
      "\u001b[1m1/1\u001b[0m \u001b[32m━━━━━━━━━━━━━━━━━━━━\u001b[0m\u001b[37m\u001b[0m \u001b[1m0s\u001b[0m 248ms/step - loss: 5435565801472.0000 - mae: 1551411.5000 - val_loss: 6290201903104.0000 - val_mae: 1857179.8750\n",
      "Epoch 27/1000\n",
      "\u001b[1m1/1\u001b[0m \u001b[32m━━━━━━━━━━━━━━━━━━━━\u001b[0m\u001b[37m\u001b[0m \u001b[1m0s\u001b[0m 256ms/step - loss: 5350087458816.0000 - mae: 1523895.1250 - val_loss: 6167514841088.0000 - val_mae: 1824619.0000\n",
      "Epoch 28/1000\n",
      "\u001b[1m1/1\u001b[0m \u001b[32m━━━━━━━━━━━━━━━━━━━━\u001b[0m\u001b[37m\u001b[0m \u001b[1m0s\u001b[0m 250ms/step - loss: 5254674907136.0000 - mae: 1492555.5000 - val_loss: 6030881718272.0000 - val_mae: 1787669.8750\n",
      "Epoch 29/1000\n",
      "\u001b[1m1/1\u001b[0m \u001b[32m━━━━━━━━━━━━━━━━━━━━\u001b[0m\u001b[37m\u001b[0m \u001b[1m0s\u001b[0m 245ms/step - loss: 5148907143168.0000 - mae: 1456989.7500 - val_loss: 5879682301952.0000 - val_mae: 1745878.7500\n",
      "Epoch 30/1000\n",
      "\u001b[1m1/1\u001b[0m \u001b[32m━━━━━━━━━━━━━━━━━━━━\u001b[0m\u001b[37m\u001b[0m \u001b[1m0s\u001b[0m 245ms/step - loss: 5032494759936.0000 - mae: 1416762.5000 - val_loss: 5713506074624.0000 - val_mae: 1698780.8750\n",
      "Epoch 31/1000\n",
      "\u001b[1m1/1\u001b[0m \u001b[32m━━━━━━━━━━━━━━━━━━━━\u001b[0m\u001b[37m\u001b[0m \u001b[1m0s\u001b[0m 242ms/step - loss: 4905390047232.0000 - mae: 1372311.2500 - val_loss: 5532195749888.0000 - val_mae: 1645882.5000\n",
      "Epoch 32/1000\n",
      "\u001b[1m1/1\u001b[0m \u001b[32m━━━━━━━━━━━━━━━━━━━━\u001b[0m\u001b[37m\u001b[0m \u001b[1m0s\u001b[0m 244ms/step - loss: 4767801147392.0000 - mae: 1327508.3750 - val_loss: 5335903371264.0000 - val_mae: 1589537.3750\n",
      "Epoch 33/1000\n",
      "\u001b[1m1/1\u001b[0m \u001b[32m━━━━━━━━━━━━━━━━━━━━\u001b[0m\u001b[37m\u001b[0m \u001b[1m0s\u001b[0m 246ms/step - loss: 4620256542720.0000 - mae: 1281400.1250 - val_loss: 5125173673984.0000 - val_mae: 1539598.8750\n",
      "Epoch 34/1000\n",
      "\u001b[1m1/1\u001b[0m \u001b[32m━━━━━━━━━━━━━━━━━━━━\u001b[0m\u001b[37m\u001b[0m \u001b[1m0s\u001b[0m 240ms/step - loss: 4463682125824.0000 - mae: 1234503.1250 - val_loss: 4901162713088.0000 - val_mae: 1484054.2500\n",
      "Epoch 35/1000\n",
      "\u001b[1m1/1\u001b[0m \u001b[32m━━━━━━━━━━━━━━━━━━━━\u001b[0m\u001b[37m\u001b[0m \u001b[1m0s\u001b[0m 256ms/step - loss: 4299562156032.0000 - mae: 1195089.3750 - val_loss: 4665648349184.0000 - val_mae: 1422495.1250\n",
      "Epoch 36/1000\n",
      "\u001b[1m1/1\u001b[0m \u001b[32m━━━━━━━━━━━━━━━━━━━━\u001b[0m\u001b[37m\u001b[0m \u001b[1m0s\u001b[0m 240ms/step - loss: 4130017640448.0000 - mae: 1160586.2500 - val_loss: 4421203263488.0000 - val_mae: 1371350.6250\n",
      "Epoch 37/1000\n",
      "\u001b[1m1/1\u001b[0m \u001b[32m━━━━━━━━━━━━━━━━━━━━\u001b[0m\u001b[37m\u001b[0m \u001b[1m0s\u001b[0m 243ms/step - loss: 3957919318016.0000 - mae: 1137835.5000 - val_loss: 4171346477056.0000 - val_mae: 1319845.7500\n",
      "Epoch 38/1000\n",
      "\u001b[1m1/1\u001b[0m \u001b[32m━━━━━━━━━━━━━━━━━━━━\u001b[0m\u001b[37m\u001b[0m \u001b[1m0s\u001b[0m 236ms/step - loss: 3787007197184.0000 - mae: 1113263.6250 - val_loss: 3920696442880.0000 - val_mae: 1263519.6250\n",
      "Epoch 39/1000\n",
      "\u001b[1m1/1\u001b[0m \u001b[32m━━━━━━━━━━━━━━━━━━━━\u001b[0m\u001b[37m\u001b[0m \u001b[1m0s\u001b[0m 249ms/step - loss: 3621993840640.0000 - mae: 1093159.7500 - val_loss: 3675091632128.0000 - val_mae: 1202312.6250\n",
      "Epoch 40/1000\n",
      "\u001b[1m1/1\u001b[0m \u001b[32m━━━━━━━━━━━━━━━━━━━━\u001b[0m\u001b[37m\u001b[0m \u001b[1m0s\u001b[0m 244ms/step - loss: 3468615483392.0000 - mae: 1081029.0000 - val_loss: 3441636933632.0000 - val_mae: 1136356.3750\n",
      "Epoch 41/1000\n",
      "\u001b[1m1/1\u001b[0m \u001b[32m━━━━━━━━━━━━━━━━━━━━\u001b[0m\u001b[37m\u001b[0m \u001b[1m0s\u001b[0m 248ms/step - loss: 3333565972480.0000 - mae: 1077906.8750 - val_loss: 3228571009024.0000 - val_mae: 1102258.5000\n",
      "Epoch 42/1000\n",
      "\u001b[1m1/1\u001b[0m \u001b[32m━━━━━━━━━━━━━━━━━━━━\u001b[0m\u001b[37m\u001b[0m \u001b[1m0s\u001b[0m 240ms/step - loss: 3224190844928.0000 - mae: 1099294.6250 - val_loss: 3044770054144.0000 - val_mae: 1067347.1250\n",
      "Epoch 43/1000\n",
      "\u001b[1m1/1\u001b[0m \u001b[32m━━━━━━━━━━━━━━━━━━━━\u001b[0m\u001b[37m\u001b[0m \u001b[1m0s\u001b[0m 247ms/step - loss: 3147735498752.0000 - mae: 1127461.0000 - val_loss: 2898616909824.0000 - val_mae: 1038788.3750\n",
      "Epoch 44/1000\n",
      "\u001b[1m1/1\u001b[0m \u001b[32m━━━━━━━━━━━━━━━━━━━━\u001b[0m\u001b[37m\u001b[0m \u001b[1m0s\u001b[0m 244ms/step - loss: 3109871419392.0000 - mae: 1156213.0000 - val_loss: 2795946377216.0000 - val_mae: 1044601.5000\n",
      "Epoch 45/1000\n",
      "\u001b[1m1/1\u001b[0m \u001b[32m━━━━━━━━━━━━━━━━━━━━\u001b[0m\u001b[37m\u001b[0m \u001b[1m0s\u001b[0m 268ms/step - loss: 3112299659264.0000 - mae: 1189428.6250 - val_loss: 2737204363264.0000 - val_mae: 1074710.2500\n",
      "Epoch 46/1000\n",
      "\u001b[1m1/1\u001b[0m \u001b[32m━━━━━━━━━━━━━━━━━━━━\u001b[0m\u001b[37m\u001b[0m \u001b[1m0s\u001b[0m 244ms/step - loss: 3149818494976.0000 - mae: 1224019.1250 - val_loss: 2715174305792.0000 - val_mae: 1129160.8750\n",
      "Epoch 47/1000\n",
      "\u001b[1m1/1\u001b[0m \u001b[32m━━━━━━━━━━━━━━━━━━━━\u001b[0m\u001b[37m\u001b[0m \u001b[1m0s\u001b[0m 244ms/step - loss: 3208706523136.0000 - mae: 1255729.0000 - val_loss: 2715905949696.0000 - val_mae: 1170406.1250\n",
      "Epoch 48/1000\n",
      "\u001b[1m1/1\u001b[0m \u001b[32m━━━━━━━━━━━━━━━━━━━━\u001b[0m\u001b[37m\u001b[0m \u001b[1m0s\u001b[0m 230ms/step - loss: 3269258117120.0000 - mae: 1285598.8750 - val_loss: 2723950362624.0000 - val_mae: 1195934.0000\n",
      "Epoch 49/1000\n",
      "\u001b[1m1/1\u001b[0m \u001b[32m━━━━━━━━━━━━━━━━━━━━\u001b[0m\u001b[37m\u001b[0m \u001b[1m0s\u001b[0m 238ms/step - loss: 3312824352768.0000 - mae: 1305212.3750 - val_loss: 2728586379264.0000 - val_mae: 1205448.3750\n",
      "Epoch 50/1000\n",
      "\u001b[1m1/1\u001b[0m \u001b[32m━━━━━━━━━━━━━━━━━━━━\u001b[0m\u001b[37m\u001b[0m \u001b[1m0s\u001b[0m 228ms/step - loss: 3328724434944.0000 - mae: 1312145.2500 - val_loss: 2726513606656.0000 - val_mae: 1200510.7500\n",
      "Epoch 51/1000\n",
      "\u001b[1m1/1\u001b[0m \u001b[32m━━━━━━━━━━━━━━━━━━━━\u001b[0m\u001b[37m\u001b[0m \u001b[1m0s\u001b[0m 226ms/step - loss: 3316272594944.0000 - mae: 1307667.8750 - val_loss: 2720412991488.0000 - val_mae: 1183743.5000\n"
     ]
    },
    {
     "data": {
      "text/plain": [
       "<keras.src.callbacks.history.History at 0x346822900>"
      ]
     },
     "execution_count": 289,
     "metadata": {},
     "output_type": "execute_result"
    }
   ],
   "source": [
    "from tensorflow.keras.models import Sequential\n",
    "from tensorflow.keras.layers import Input, Conv2D, MaxPooling2D, Flatten, Dense, concatenate, Dropout\n",
    "from tensorflow.keras.models import Model\n",
    "from tensorflow.keras.callbacks import EarlyStopping\n",
    "\n",
    "K.clear_session()\n",
    "image_input = Input(shape=(128, 128, 3))\n",
    "x = Conv2D(32, (3, 3), activation='relu')(image_input)\n",
    "x = MaxPooling2D(2, 2)(x)\n",
    "x = MaxPooling2D(2, 2)(x)\n",
    "x = Conv2D(128, (3, 3), activation='relu')(image_input)\n",
    "x = MaxPooling2D(2, 2)(x)\n",
    "x = Conv2D(64, (3, 3), activation='relu')(x)\n",
    "x = MaxPooling2D(2, 2)(x)\n",
    "x = Flatten()(x)\n",
    "\n",
    "# Entrada para la información del influencer\n",
    "influencer_input = Input(shape=(df_fit_esc.shape[1],))\n",
    "y = Dense(10, activation='relu')(influencer_input)  # Ajusta el tamaño según el número de categorías\n",
    "\n",
    "# Combinar las entradas\n",
    "combined = concatenate([x, y])\n",
    "\n",
    "# Capas totalmente conectadas después de la concatenación\n",
    "z = Dense(256, activation='relu')(combined)\n",
    "z = Dense(1)(z)\n",
    "\n",
    "early_stopping = EarlyStopping(monitor='val_mae', patience=50, mode='max', restore_best_weights=True)\n",
    "model = Model(inputs=[image_input, influencer_input], outputs=z)\n",
    "model.compile(optimizer='adam', loss='mse', metrics=['mae'])\n",
    "\n",
    "\n",
    "model.fit([x_fit, df_fit_esc], y_fit, \n",
    "          epochs=1000, \n",
    "          validation_data=([x_val, df_val_esc], y_val),\n",
    "          callbacks=[early_stopping])"
   ]
  },
  {
   "cell_type": "code",
   "execution_count": 292,
   "metadata": {},
   "outputs": [
    {
     "name": "stdout",
     "output_type": "stream",
     "text": [
      "\u001b[1m1/1\u001b[0m \u001b[32m━━━━━━━━━━━━━━━━━━━━\u001b[0m\u001b[37m\u001b[0m \u001b[1m0s\u001b[0m 29ms/step\n",
      "\u001b[1m1/1\u001b[0m \u001b[32m━━━━━━━━━━━━━━━━━━━━\u001b[0m\u001b[37m\u001b[0m \u001b[1m0s\u001b[0m 59ms/step\n",
      "0.9999584\n",
      "\u001b[1m1/1\u001b[0m \u001b[32m━━━━━━━━━━━━━━━━━━━━\u001b[0m\u001b[37m\u001b[0m \u001b[1m0s\u001b[0m 23ms/step\n",
      "0.999966\n",
      "0.9999577\n"
     ]
    }
   ],
   "source": [
    "predictions = model.predict([x_test, df_test_esc])\n",
    "print(mean_absolute_percentage_error(y_fit, model.predict([x_fit, df_fit_esc])))\n",
    "print(mean_absolute_percentage_error(y_val, model.predict([x_val, df_val_esc])))\n",
    "print(mean_absolute_percentage_error(y_test, predictions))\n"
   ]
  }
 ],
 "metadata": {
  "kernelspec": {
   "display_name": "Python 3",
   "language": "python",
   "name": "python3"
  },
  "language_info": {
   "codemirror_mode": {
    "name": "ipython",
    "version": 3
   },
   "file_extension": ".py",
   "mimetype": "text/x-python",
   "name": "python",
   "nbconvert_exporter": "python",
   "pygments_lexer": "ipython3",
   "version": "3.12.2"
  }
 },
 "nbformat": 4,
 "nbformat_minor": 2
}
